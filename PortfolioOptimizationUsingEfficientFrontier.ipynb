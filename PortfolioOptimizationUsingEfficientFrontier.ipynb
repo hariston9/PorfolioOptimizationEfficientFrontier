{
  "nbformat": 4,
  "nbformat_minor": 0,
  "metadata": {
    "colab": {
      "name": "PortfolioOptimizationUsingEfficientFrontier.ipynb",
      "provenance": [],
      "collapsed_sections": []
    },
    "kernelspec": {
      "name": "python3",
      "display_name": "Python 3"
    },
    "language_info": {
      "name": "python"
    }
  },
  "cells": [
    {
      "cell_type": "code",
      "metadata": {
        "id": "h2KiAHogRDrb"
      },
      "source": [
        "#PORTFOLIO OPTIMIZATION\n",
        "#This program attempts to optimize a users portfolio using the Efficient Frontier"
      ],
      "execution_count": null,
      "outputs": []
    },
    {
      "cell_type": "code",
      "metadata": {
        "id": "ThfyFMaRRZKt"
      },
      "source": [
        "#Importing the python libraries\n",
        "from pandas_datareader import data as wb\n",
        "import pandas as pd\n",
        "import numpy as np\n",
        "from datetime import datetime\n",
        "import matplotlib.pyplot as plt\n",
        "plt.style.use('fivethirtyeight')"
      ],
      "execution_count": null,
      "outputs": []
    },
    {
      "cell_type": "code",
      "metadata": {
        "id": "pyT3BFILSTfa"
      },
      "source": [
        "#Get the stocks sumbols/tickers in the portfolio\n",
        "# FAANG\n",
        "Assets= ['AAPL', 'NFLX','GOOG']\n"
      ],
      "execution_count": null,
      "outputs": []
    },
    {
      "cell_type": "code",
      "metadata": {
        "id": "LsAipIU_UcYE"
      },
      "source": [
        "# Assign Weights to the stocks\n",
        "weights=np.array([0.2,0.2,0.2,0.2,0.2])"
      ],
      "execution_count": null,
      "outputs": []
    },
    {
      "cell_type": "code",
      "metadata": {
        "id": "L1j6Y7w7Vi7l"
      },
      "source": [
        "#Get the stock/Portfolio starting date\n",
        "stockStartDate='2013-01-01'"
      ],
      "execution_count": null,
      "outputs": []
    },
    {
      "cell_type": "code",
      "metadata": {
        "colab": {
          "base_uri": "https://localhost:8080/",
          "height": 35
        },
        "id": "P774MX8rVtSH",
        "outputId": "95b1c96e-4ce8-4a9d-dd89-5d754272ce06"
      },
      "source": [
        "today=datetime.today().strftime('%Y-%m-%d')\n",
        "today"
      ],
      "execution_count": null,
      "outputs": [
        {
          "output_type": "execute_result",
          "data": {
            "application/vnd.google.colaboratory.intrinsic+json": {
              "type": "string"
            },
            "text/plain": [
              "'2021-10-15'"
            ]
          },
          "metadata": {},
          "execution_count": 200
        }
      ]
    },
    {
      "cell_type": "code",
      "metadata": {
        "id": "9s0AJdgu4OcS",
        "colab": {
          "base_uri": "https://localhost:8080/"
        },
        "outputId": "2ea623c5-afcd-4922-ce9f-d6146c36aee3"
      },
      "source": [
        "!pip install yfinance\n"
      ],
      "execution_count": null,
      "outputs": [
        {
          "output_type": "stream",
          "name": "stdout",
          "text": [
            "Requirement already satisfied: yfinance in /usr/local/lib/python3.7/dist-packages (0.1.63)\n",
            "Requirement already satisfied: lxml>=4.5.1 in /usr/local/lib/python3.7/dist-packages (from yfinance) (4.6.3)\n",
            "Requirement already satisfied: numpy>=1.15 in /usr/local/lib/python3.7/dist-packages (from yfinance) (1.19.5)\n",
            "Requirement already satisfied: pandas>=0.24 in /usr/local/lib/python3.7/dist-packages (from yfinance) (1.1.5)\n",
            "Requirement already satisfied: multitasking>=0.0.7 in /usr/local/lib/python3.7/dist-packages (from yfinance) (0.0.9)\n",
            "Requirement already satisfied: requests>=2.20 in /usr/local/lib/python3.7/dist-packages (from yfinance) (2.23.0)\n",
            "Requirement already satisfied: pytz>=2017.2 in /usr/local/lib/python3.7/dist-packages (from pandas>=0.24->yfinance) (2018.9)\n",
            "Requirement already satisfied: python-dateutil>=2.7.3 in /usr/local/lib/python3.7/dist-packages (from pandas>=0.24->yfinance) (2.8.2)\n",
            "Requirement already satisfied: six>=1.5 in /usr/local/lib/python3.7/dist-packages (from python-dateutil>=2.7.3->pandas>=0.24->yfinance) (1.15.0)\n",
            "Requirement already satisfied: chardet<4,>=3.0.2 in /usr/local/lib/python3.7/dist-packages (from requests>=2.20->yfinance) (3.0.4)\n",
            "Requirement already satisfied: urllib3!=1.25.0,!=1.25.1,<1.26,>=1.21.1 in /usr/local/lib/python3.7/dist-packages (from requests>=2.20->yfinance) (1.24.3)\n",
            "Requirement already satisfied: idna<3,>=2.5 in /usr/local/lib/python3.7/dist-packages (from requests>=2.20->yfinance) (2.10)\n",
            "Requirement already satisfied: certifi>=2017.4.17 in /usr/local/lib/python3.7/dist-packages (from requests>=2.20->yfinance) (2021.5.30)\n"
          ]
        }
      ]
    },
    {
      "cell_type": "code",
      "metadata": {
        "colab": {
          "base_uri": "https://localhost:8080/"
        },
        "id": "2zeoin_23R3j",
        "outputId": "5d0d9eec-0191-4ffd-f5d7-fb1617b7a57e"
      },
      "source": [
        "import yfinance as yf\n",
        "data = yf.download(\"FB AMZN AAPL NFLX GOOGL\", start=\"2013-01-01\", end=\"2020-03-16\")"
      ],
      "execution_count": null,
      "outputs": [
        {
          "output_type": "stream",
          "name": "stdout",
          "text": [
            "[*********************100%***********************]  5 of 5 completed\n"
          ]
        }
      ]
    },
    {
      "cell_type": "code",
      "metadata": {
        "colab": {
          "base_uri": "https://localhost:8080/",
          "height": 671
        },
        "id": "orMCaSKxsaIO",
        "outputId": "83fd649f-8a81-42f6-dcfe-c7ab498ea3da"
      },
      "source": [
        "data"
      ],
      "execution_count": null,
      "outputs": [
        {
          "output_type": "execute_result",
          "data": {
            "text/html": [
              "<div>\n",
              "<style scoped>\n",
              "    .dataframe tbody tr th:only-of-type {\n",
              "        vertical-align: middle;\n",
              "    }\n",
              "\n",
              "    .dataframe tbody tr th {\n",
              "        vertical-align: top;\n",
              "    }\n",
              "\n",
              "    .dataframe thead tr th {\n",
              "        text-align: left;\n",
              "    }\n",
              "\n",
              "    .dataframe thead tr:last-of-type th {\n",
              "        text-align: right;\n",
              "    }\n",
              "</style>\n",
              "<table border=\"1\" class=\"dataframe\">\n",
              "  <thead>\n",
              "    <tr>\n",
              "      <th></th>\n",
              "      <th colspan=\"5\" halign=\"left\">Adj Close</th>\n",
              "      <th colspan=\"5\" halign=\"left\">Close</th>\n",
              "      <th colspan=\"5\" halign=\"left\">High</th>\n",
              "      <th colspan=\"5\" halign=\"left\">Low</th>\n",
              "      <th colspan=\"5\" halign=\"left\">Open</th>\n",
              "      <th colspan=\"5\" halign=\"left\">Volume</th>\n",
              "    </tr>\n",
              "    <tr>\n",
              "      <th></th>\n",
              "      <th>AAPL</th>\n",
              "      <th>AMZN</th>\n",
              "      <th>FB</th>\n",
              "      <th>GOOGL</th>\n",
              "      <th>NFLX</th>\n",
              "      <th>AAPL</th>\n",
              "      <th>AMZN</th>\n",
              "      <th>FB</th>\n",
              "      <th>GOOGL</th>\n",
              "      <th>NFLX</th>\n",
              "      <th>AAPL</th>\n",
              "      <th>AMZN</th>\n",
              "      <th>FB</th>\n",
              "      <th>GOOGL</th>\n",
              "      <th>NFLX</th>\n",
              "      <th>AAPL</th>\n",
              "      <th>AMZN</th>\n",
              "      <th>FB</th>\n",
              "      <th>GOOGL</th>\n",
              "      <th>NFLX</th>\n",
              "      <th>AAPL</th>\n",
              "      <th>AMZN</th>\n",
              "      <th>FB</th>\n",
              "      <th>GOOGL</th>\n",
              "      <th>NFLX</th>\n",
              "      <th>AAPL</th>\n",
              "      <th>AMZN</th>\n",
              "      <th>FB</th>\n",
              "      <th>GOOGL</th>\n",
              "      <th>NFLX</th>\n",
              "    </tr>\n",
              "    <tr>\n",
              "      <th>Date</th>\n",
              "      <th></th>\n",
              "      <th></th>\n",
              "      <th></th>\n",
              "      <th></th>\n",
              "      <th></th>\n",
              "      <th></th>\n",
              "      <th></th>\n",
              "      <th></th>\n",
              "      <th></th>\n",
              "      <th></th>\n",
              "      <th></th>\n",
              "      <th></th>\n",
              "      <th></th>\n",
              "      <th></th>\n",
              "      <th></th>\n",
              "      <th></th>\n",
              "      <th></th>\n",
              "      <th></th>\n",
              "      <th></th>\n",
              "      <th></th>\n",
              "      <th></th>\n",
              "      <th></th>\n",
              "      <th></th>\n",
              "      <th></th>\n",
              "      <th></th>\n",
              "      <th></th>\n",
              "      <th></th>\n",
              "      <th></th>\n",
              "      <th></th>\n",
              "      <th></th>\n",
              "    </tr>\n",
              "  </thead>\n",
              "  <tbody>\n",
              "    <tr>\n",
              "      <th>2013-01-02</th>\n",
              "      <td>16.985447</td>\n",
              "      <td>257.309998</td>\n",
              "      <td>28.000000</td>\n",
              "      <td>361.987000</td>\n",
              "      <td>13.144286</td>\n",
              "      <td>19.608213</td>\n",
              "      <td>257.309998</td>\n",
              "      <td>28.000000</td>\n",
              "      <td>361.987000</td>\n",
              "      <td>13.144286</td>\n",
              "      <td>19.821428</td>\n",
              "      <td>258.100006</td>\n",
              "      <td>28.180000</td>\n",
              "      <td>363.863861</td>\n",
              "      <td>13.687143</td>\n",
              "      <td>19.343929</td>\n",
              "      <td>253.259995</td>\n",
              "      <td>27.420000</td>\n",
              "      <td>358.633636</td>\n",
              "      <td>12.955714</td>\n",
              "      <td>19.779285</td>\n",
              "      <td>256.079987</td>\n",
              "      <td>27.440001</td>\n",
              "      <td>360.070068</td>\n",
              "      <td>13.601429</td>\n",
              "      <td>560518000</td>\n",
              "      <td>3271000</td>\n",
              "      <td>69846400</td>\n",
              "      <td>5077517</td>\n",
              "      <td>19431300</td>\n",
              "    </tr>\n",
              "    <tr>\n",
              "      <th>2013-01-03</th>\n",
              "      <td>16.771051</td>\n",
              "      <td>258.480011</td>\n",
              "      <td>27.770000</td>\n",
              "      <td>362.197205</td>\n",
              "      <td>13.798571</td>\n",
              "      <td>19.360714</td>\n",
              "      <td>258.480011</td>\n",
              "      <td>27.770000</td>\n",
              "      <td>362.197205</td>\n",
              "      <td>13.798571</td>\n",
              "      <td>19.631071</td>\n",
              "      <td>260.880005</td>\n",
              "      <td>28.469999</td>\n",
              "      <td>366.331329</td>\n",
              "      <td>13.988571</td>\n",
              "      <td>19.321428</td>\n",
              "      <td>256.369995</td>\n",
              "      <td>27.590000</td>\n",
              "      <td>360.720734</td>\n",
              "      <td>13.075714</td>\n",
              "      <td>19.567142</td>\n",
              "      <td>257.269989</td>\n",
              "      <td>27.879999</td>\n",
              "      <td>362.827820</td>\n",
              "      <td>13.138571</td>\n",
              "      <td>352965200</td>\n",
              "      <td>2750900</td>\n",
              "      <td>63140600</td>\n",
              "      <td>4631764</td>\n",
              "      <td>27912500</td>\n",
              "    </tr>\n",
              "    <tr>\n",
              "      <th>2013-01-04</th>\n",
              "      <td>16.303900</td>\n",
              "      <td>259.149994</td>\n",
              "      <td>28.760000</td>\n",
              "      <td>369.354340</td>\n",
              "      <td>13.711429</td>\n",
              "      <td>18.821428</td>\n",
              "      <td>259.149994</td>\n",
              "      <td>28.760000</td>\n",
              "      <td>369.354340</td>\n",
              "      <td>13.711429</td>\n",
              "      <td>19.236786</td>\n",
              "      <td>259.799988</td>\n",
              "      <td>28.930000</td>\n",
              "      <td>371.106110</td>\n",
              "      <td>13.958571</td>\n",
              "      <td>18.779642</td>\n",
              "      <td>256.649994</td>\n",
              "      <td>27.830000</td>\n",
              "      <td>364.204193</td>\n",
              "      <td>13.648571</td>\n",
              "      <td>19.177500</td>\n",
              "      <td>257.579987</td>\n",
              "      <td>28.010000</td>\n",
              "      <td>365.035034</td>\n",
              "      <td>13.791429</td>\n",
              "      <td>594333600</td>\n",
              "      <td>1874200</td>\n",
              "      <td>72715400</td>\n",
              "      <td>5521473</td>\n",
              "      <td>17761100</td>\n",
              "    </tr>\n",
              "    <tr>\n",
              "      <th>2013-01-07</th>\n",
              "      <td>16.207996</td>\n",
              "      <td>268.459991</td>\n",
              "      <td>29.420000</td>\n",
              "      <td>367.742737</td>\n",
              "      <td>14.171429</td>\n",
              "      <td>18.710714</td>\n",
              "      <td>268.459991</td>\n",
              "      <td>29.420000</td>\n",
              "      <td>367.742737</td>\n",
              "      <td>14.171429</td>\n",
              "      <td>18.903570</td>\n",
              "      <td>269.730011</td>\n",
              "      <td>29.790001</td>\n",
              "      <td>370.060059</td>\n",
              "      <td>14.535714</td>\n",
              "      <td>18.400000</td>\n",
              "      <td>262.670013</td>\n",
              "      <td>28.650000</td>\n",
              "      <td>365.655670</td>\n",
              "      <td>13.731429</td>\n",
              "      <td>18.642857</td>\n",
              "      <td>262.970001</td>\n",
              "      <td>28.690001</td>\n",
              "      <td>368.093079</td>\n",
              "      <td>13.770000</td>\n",
              "      <td>484156400</td>\n",
              "      <td>4910000</td>\n",
              "      <td>83781800</td>\n",
              "      <td>3308089</td>\n",
              "      <td>45550400</td>\n",
              "    </tr>\n",
              "    <tr>\n",
              "      <th>2013-01-08</th>\n",
              "      <td>16.251619</td>\n",
              "      <td>266.380005</td>\n",
              "      <td>29.059999</td>\n",
              "      <td>367.017029</td>\n",
              "      <td>13.880000</td>\n",
              "      <td>18.761070</td>\n",
              "      <td>266.380005</td>\n",
              "      <td>29.059999</td>\n",
              "      <td>367.017029</td>\n",
              "      <td>13.880000</td>\n",
              "      <td>18.996071</td>\n",
              "      <td>268.980011</td>\n",
              "      <td>29.600000</td>\n",
              "      <td>368.518524</td>\n",
              "      <td>14.427143</td>\n",
              "      <td>18.616072</td>\n",
              "      <td>263.570007</td>\n",
              "      <td>28.860001</td>\n",
              "      <td>362.577576</td>\n",
              "      <td>13.828571</td>\n",
              "      <td>18.900356</td>\n",
              "      <td>267.070007</td>\n",
              "      <td>29.510000</td>\n",
              "      <td>368.138153</td>\n",
              "      <td>14.287143</td>\n",
              "      <td>458707200</td>\n",
              "      <td>3010700</td>\n",
              "      <td>45871300</td>\n",
              "      <td>3348848</td>\n",
              "      <td>24714900</td>\n",
              "    </tr>\n",
              "    <tr>\n",
              "      <th>...</th>\n",
              "      <td>...</td>\n",
              "      <td>...</td>\n",
              "      <td>...</td>\n",
              "      <td>...</td>\n",
              "      <td>...</td>\n",
              "      <td>...</td>\n",
              "      <td>...</td>\n",
              "      <td>...</td>\n",
              "      <td>...</td>\n",
              "      <td>...</td>\n",
              "      <td>...</td>\n",
              "      <td>...</td>\n",
              "      <td>...</td>\n",
              "      <td>...</td>\n",
              "      <td>...</td>\n",
              "      <td>...</td>\n",
              "      <td>...</td>\n",
              "      <td>...</td>\n",
              "      <td>...</td>\n",
              "      <td>...</td>\n",
              "      <td>...</td>\n",
              "      <td>...</td>\n",
              "      <td>...</td>\n",
              "      <td>...</td>\n",
              "      <td>...</td>\n",
              "      <td>...</td>\n",
              "      <td>...</td>\n",
              "      <td>...</td>\n",
              "      <td>...</td>\n",
              "      <td>...</td>\n",
              "    </tr>\n",
              "    <tr>\n",
              "      <th>2020-03-09</th>\n",
              "      <td>65.820084</td>\n",
              "      <td>1800.609985</td>\n",
              "      <td>169.500000</td>\n",
              "      <td>1215.790039</td>\n",
              "      <td>346.489990</td>\n",
              "      <td>66.542503</td>\n",
              "      <td>1800.609985</td>\n",
              "      <td>169.500000</td>\n",
              "      <td>1215.790039</td>\n",
              "      <td>346.489990</td>\n",
              "      <td>69.522499</td>\n",
              "      <td>1862.770020</td>\n",
              "      <td>175.000000</td>\n",
              "      <td>1252.729980</td>\n",
              "      <td>357.470001</td>\n",
              "      <td>65.750000</td>\n",
              "      <td>1761.290039</td>\n",
              "      <td>165.190002</td>\n",
              "      <td>1198.040039</td>\n",
              "      <td>341.720001</td>\n",
              "      <td>65.937500</td>\n",
              "      <td>1773.859985</td>\n",
              "      <td>169.600006</td>\n",
              "      <td>1204.959961</td>\n",
              "      <td>343.859985</td>\n",
              "      <td>286744800</td>\n",
              "      <td>7813200</td>\n",
              "      <td>29949000</td>\n",
              "      <td>3462600</td>\n",
              "      <td>7405500</td>\n",
              "    </tr>\n",
              "    <tr>\n",
              "      <th>2020-03-10</th>\n",
              "      <td>70.560539</td>\n",
              "      <td>1891.819946</td>\n",
              "      <td>178.190002</td>\n",
              "      <td>1275.170044</td>\n",
              "      <td>364.130005</td>\n",
              "      <td>71.334999</td>\n",
              "      <td>1891.819946</td>\n",
              "      <td>178.190002</td>\n",
              "      <td>1275.170044</td>\n",
              "      <td>364.130005</td>\n",
              "      <td>71.610001</td>\n",
              "      <td>1894.270020</td>\n",
              "      <td>178.289993</td>\n",
              "      <td>1275.849976</td>\n",
              "      <td>364.540009</td>\n",
              "      <td>67.342499</td>\n",
              "      <td>1818.170044</td>\n",
              "      <td>169.500000</td>\n",
              "      <td>1214.510010</td>\n",
              "      <td>347.850006</td>\n",
              "      <td>69.285004</td>\n",
              "      <td>1870.880005</td>\n",
              "      <td>174.669998</td>\n",
              "      <td>1254.390015</td>\n",
              "      <td>356.429993</td>\n",
              "      <td>285290000</td>\n",
              "      <td>7133300</td>\n",
              "      <td>24517800</td>\n",
              "      <td>2743600</td>\n",
              "      <td>7604400</td>\n",
              "    </tr>\n",
              "    <tr>\n",
              "      <th>2020-03-11</th>\n",
              "      <td>68.109955</td>\n",
              "      <td>1820.859985</td>\n",
              "      <td>170.240005</td>\n",
              "      <td>1210.900024</td>\n",
              "      <td>349.920013</td>\n",
              "      <td>68.857498</td>\n",
              "      <td>1820.859985</td>\n",
              "      <td>170.240005</td>\n",
              "      <td>1210.900024</td>\n",
              "      <td>349.920013</td>\n",
              "      <td>70.305000</td>\n",
              "      <td>1871.319946</td>\n",
              "      <td>175.880005</td>\n",
              "      <td>1256.930054</td>\n",
              "      <td>362.980011</td>\n",
              "      <td>67.964996</td>\n",
              "      <td>1801.500000</td>\n",
              "      <td>167.660004</td>\n",
              "      <td>1191.140015</td>\n",
              "      <td>344.790009</td>\n",
              "      <td>69.347504</td>\n",
              "      <td>1857.849976</td>\n",
              "      <td>174.009995</td>\n",
              "      <td>1248.270020</td>\n",
              "      <td>358.920013</td>\n",
              "      <td>255598800</td>\n",
              "      <td>5624800</td>\n",
              "      <td>20373900</td>\n",
              "      <td>2736600</td>\n",
              "      <td>6036000</td>\n",
              "    </tr>\n",
              "    <tr>\n",
              "      <th>2020-03-12</th>\n",
              "      <td>61.383770</td>\n",
              "      <td>1676.609985</td>\n",
              "      <td>154.470001</td>\n",
              "      <td>1111.550049</td>\n",
              "      <td>315.250000</td>\n",
              "      <td>62.057499</td>\n",
              "      <td>1676.609985</td>\n",
              "      <td>154.470001</td>\n",
              "      <td>1111.550049</td>\n",
              "      <td>315.250000</td>\n",
              "      <td>67.500000</td>\n",
              "      <td>1765.000000</td>\n",
              "      <td>166.600006</td>\n",
              "      <td>1188.750000</td>\n",
              "      <td>335.720001</td>\n",
              "      <td>62.000000</td>\n",
              "      <td>1675.000000</td>\n",
              "      <td>154.339996</td>\n",
              "      <td>1108.469971</td>\n",
              "      <td>307.320007</td>\n",
              "      <td>63.985001</td>\n",
              "      <td>1721.979980</td>\n",
              "      <td>159.539993</td>\n",
              "      <td>1122.619995</td>\n",
              "      <td>326.500000</td>\n",
              "      <td>418474000</td>\n",
              "      <td>11346200</td>\n",
              "      <td>43266300</td>\n",
              "      <td>4716300</td>\n",
              "      <td>12071600</td>\n",
              "    </tr>\n",
              "    <tr>\n",
              "      <th>2020-03-13</th>\n",
              "      <td>68.738052</td>\n",
              "      <td>1785.000000</td>\n",
              "      <td>170.279999</td>\n",
              "      <td>1214.270020</td>\n",
              "      <td>336.299988</td>\n",
              "      <td>69.492500</td>\n",
              "      <td>1785.000000</td>\n",
              "      <td>170.279999</td>\n",
              "      <td>1214.270020</td>\n",
              "      <td>336.299988</td>\n",
              "      <td>69.980003</td>\n",
              "      <td>1786.310059</td>\n",
              "      <td>170.789993</td>\n",
              "      <td>1214.400024</td>\n",
              "      <td>336.420013</td>\n",
              "      <td>63.237499</td>\n",
              "      <td>1680.619995</td>\n",
              "      <td>157.600006</td>\n",
              "      <td>1112.290039</td>\n",
              "      <td>307.390015</td>\n",
              "      <td>66.222504</td>\n",
              "      <td>1755.000000</td>\n",
              "      <td>163.529999</td>\n",
              "      <td>1174.989990</td>\n",
              "      <td>330.510010</td>\n",
              "      <td>370732000</td>\n",
              "      <td>8809700</td>\n",
              "      <td>35028600</td>\n",
              "      <td>3970000</td>\n",
              "      <td>9458200</td>\n",
              "    </tr>\n",
              "  </tbody>\n",
              "</table>\n",
              "<p>1812 rows × 30 columns</p>\n",
              "</div>"
            ],
            "text/plain": [
              "            Adj Close                           ...    Volume                   \n",
              "                 AAPL         AMZN          FB  ...        FB    GOOGL      NFLX\n",
              "Date                                            ...                             \n",
              "2013-01-02  16.985447   257.309998   28.000000  ...  69846400  5077517  19431300\n",
              "2013-01-03  16.771051   258.480011   27.770000  ...  63140600  4631764  27912500\n",
              "2013-01-04  16.303900   259.149994   28.760000  ...  72715400  5521473  17761100\n",
              "2013-01-07  16.207996   268.459991   29.420000  ...  83781800  3308089  45550400\n",
              "2013-01-08  16.251619   266.380005   29.059999  ...  45871300  3348848  24714900\n",
              "...               ...          ...         ...  ...       ...      ...       ...\n",
              "2020-03-09  65.820084  1800.609985  169.500000  ...  29949000  3462600   7405500\n",
              "2020-03-10  70.560539  1891.819946  178.190002  ...  24517800  2743600   7604400\n",
              "2020-03-11  68.109955  1820.859985  170.240005  ...  20373900  2736600   6036000\n",
              "2020-03-12  61.383770  1676.609985  154.470001  ...  43266300  4716300  12071600\n",
              "2020-03-13  68.738052  1785.000000  170.279999  ...  35028600  3970000   9458200\n",
              "\n",
              "[1812 rows x 30 columns]"
            ]
          },
          "metadata": {},
          "execution_count": 203
        }
      ]
    },
    {
      "cell_type": "code",
      "metadata": {
        "colab": {
          "base_uri": "https://localhost:8080/",
          "height": 450
        },
        "id": "qrlcmdox4i3e",
        "outputId": "0797a4ad-be22-4a3d-9d2e-54d46b76b7b7"
      },
      "source": [
        "df=pd.DataFrame()\n",
        "df=data['Adj Close']\n",
        "\n",
        "df"
      ],
      "execution_count": null,
      "outputs": [
        {
          "output_type": "execute_result",
          "data": {
            "text/html": [
              "<div>\n",
              "<style scoped>\n",
              "    .dataframe tbody tr th:only-of-type {\n",
              "        vertical-align: middle;\n",
              "    }\n",
              "\n",
              "    .dataframe tbody tr th {\n",
              "        vertical-align: top;\n",
              "    }\n",
              "\n",
              "    .dataframe thead th {\n",
              "        text-align: right;\n",
              "    }\n",
              "</style>\n",
              "<table border=\"1\" class=\"dataframe\">\n",
              "  <thead>\n",
              "    <tr style=\"text-align: right;\">\n",
              "      <th></th>\n",
              "      <th>AAPL</th>\n",
              "      <th>AMZN</th>\n",
              "      <th>FB</th>\n",
              "      <th>GOOGL</th>\n",
              "      <th>NFLX</th>\n",
              "    </tr>\n",
              "    <tr>\n",
              "      <th>Date</th>\n",
              "      <th></th>\n",
              "      <th></th>\n",
              "      <th></th>\n",
              "      <th></th>\n",
              "      <th></th>\n",
              "    </tr>\n",
              "  </thead>\n",
              "  <tbody>\n",
              "    <tr>\n",
              "      <th>2013-01-02</th>\n",
              "      <td>16.985447</td>\n",
              "      <td>257.309998</td>\n",
              "      <td>28.000000</td>\n",
              "      <td>361.987000</td>\n",
              "      <td>13.144286</td>\n",
              "    </tr>\n",
              "    <tr>\n",
              "      <th>2013-01-03</th>\n",
              "      <td>16.771051</td>\n",
              "      <td>258.480011</td>\n",
              "      <td>27.770000</td>\n",
              "      <td>362.197205</td>\n",
              "      <td>13.798571</td>\n",
              "    </tr>\n",
              "    <tr>\n",
              "      <th>2013-01-04</th>\n",
              "      <td>16.303900</td>\n",
              "      <td>259.149994</td>\n",
              "      <td>28.760000</td>\n",
              "      <td>369.354340</td>\n",
              "      <td>13.711429</td>\n",
              "    </tr>\n",
              "    <tr>\n",
              "      <th>2013-01-07</th>\n",
              "      <td>16.207996</td>\n",
              "      <td>268.459991</td>\n",
              "      <td>29.420000</td>\n",
              "      <td>367.742737</td>\n",
              "      <td>14.171429</td>\n",
              "    </tr>\n",
              "    <tr>\n",
              "      <th>2013-01-08</th>\n",
              "      <td>16.251619</td>\n",
              "      <td>266.380005</td>\n",
              "      <td>29.059999</td>\n",
              "      <td>367.017029</td>\n",
              "      <td>13.880000</td>\n",
              "    </tr>\n",
              "    <tr>\n",
              "      <th>...</th>\n",
              "      <td>...</td>\n",
              "      <td>...</td>\n",
              "      <td>...</td>\n",
              "      <td>...</td>\n",
              "      <td>...</td>\n",
              "    </tr>\n",
              "    <tr>\n",
              "      <th>2020-03-09</th>\n",
              "      <td>65.820084</td>\n",
              "      <td>1800.609985</td>\n",
              "      <td>169.500000</td>\n",
              "      <td>1215.790039</td>\n",
              "      <td>346.489990</td>\n",
              "    </tr>\n",
              "    <tr>\n",
              "      <th>2020-03-10</th>\n",
              "      <td>70.560539</td>\n",
              "      <td>1891.819946</td>\n",
              "      <td>178.190002</td>\n",
              "      <td>1275.170044</td>\n",
              "      <td>364.130005</td>\n",
              "    </tr>\n",
              "    <tr>\n",
              "      <th>2020-03-11</th>\n",
              "      <td>68.109955</td>\n",
              "      <td>1820.859985</td>\n",
              "      <td>170.240005</td>\n",
              "      <td>1210.900024</td>\n",
              "      <td>349.920013</td>\n",
              "    </tr>\n",
              "    <tr>\n",
              "      <th>2020-03-12</th>\n",
              "      <td>61.383770</td>\n",
              "      <td>1676.609985</td>\n",
              "      <td>154.470001</td>\n",
              "      <td>1111.550049</td>\n",
              "      <td>315.250000</td>\n",
              "    </tr>\n",
              "    <tr>\n",
              "      <th>2020-03-13</th>\n",
              "      <td>68.738052</td>\n",
              "      <td>1785.000000</td>\n",
              "      <td>170.279999</td>\n",
              "      <td>1214.270020</td>\n",
              "      <td>336.299988</td>\n",
              "    </tr>\n",
              "  </tbody>\n",
              "</table>\n",
              "<p>1812 rows × 5 columns</p>\n",
              "</div>"
            ],
            "text/plain": [
              "                 AAPL         AMZN          FB        GOOGL        NFLX\n",
              "Date                                                                   \n",
              "2013-01-02  16.985447   257.309998   28.000000   361.987000   13.144286\n",
              "2013-01-03  16.771051   258.480011   27.770000   362.197205   13.798571\n",
              "2013-01-04  16.303900   259.149994   28.760000   369.354340   13.711429\n",
              "2013-01-07  16.207996   268.459991   29.420000   367.742737   14.171429\n",
              "2013-01-08  16.251619   266.380005   29.059999   367.017029   13.880000\n",
              "...               ...          ...         ...          ...         ...\n",
              "2020-03-09  65.820084  1800.609985  169.500000  1215.790039  346.489990\n",
              "2020-03-10  70.560539  1891.819946  178.190002  1275.170044  364.130005\n",
              "2020-03-11  68.109955  1820.859985  170.240005  1210.900024  349.920013\n",
              "2020-03-12  61.383770  1676.609985  154.470001  1111.550049  315.250000\n",
              "2020-03-13  68.738052  1785.000000  170.279999  1214.270020  336.299988\n",
              "\n",
              "[1812 rows x 5 columns]"
            ]
          },
          "metadata": {},
          "execution_count": 204
        }
      ]
    },
    {
      "cell_type": "markdown",
      "metadata": {
        "id": "G5hC75zK1miV"
      },
      "source": [
        ""
      ]
    },
    {
      "cell_type": "code",
      "metadata": {
        "id": "0giYvXNTY5bE",
        "colab": {
          "base_uri": "https://localhost:8080/",
          "height": 450
        },
        "outputId": "acb49617-1910-4855-da0e-866db9971620"
      },
      "source": [
        "#Show the df\n",
        "df"
      ],
      "execution_count": null,
      "outputs": [
        {
          "output_type": "execute_result",
          "data": {
            "text/html": [
              "<div>\n",
              "<style scoped>\n",
              "    .dataframe tbody tr th:only-of-type {\n",
              "        vertical-align: middle;\n",
              "    }\n",
              "\n",
              "    .dataframe tbody tr th {\n",
              "        vertical-align: top;\n",
              "    }\n",
              "\n",
              "    .dataframe thead th {\n",
              "        text-align: right;\n",
              "    }\n",
              "</style>\n",
              "<table border=\"1\" class=\"dataframe\">\n",
              "  <thead>\n",
              "    <tr style=\"text-align: right;\">\n",
              "      <th></th>\n",
              "      <th>AAPL</th>\n",
              "      <th>AMZN</th>\n",
              "      <th>FB</th>\n",
              "      <th>GOOGL</th>\n",
              "      <th>NFLX</th>\n",
              "    </tr>\n",
              "    <tr>\n",
              "      <th>Date</th>\n",
              "      <th></th>\n",
              "      <th></th>\n",
              "      <th></th>\n",
              "      <th></th>\n",
              "      <th></th>\n",
              "    </tr>\n",
              "  </thead>\n",
              "  <tbody>\n",
              "    <tr>\n",
              "      <th>2013-01-02</th>\n",
              "      <td>16.985447</td>\n",
              "      <td>257.309998</td>\n",
              "      <td>28.000000</td>\n",
              "      <td>361.987000</td>\n",
              "      <td>13.144286</td>\n",
              "    </tr>\n",
              "    <tr>\n",
              "      <th>2013-01-03</th>\n",
              "      <td>16.771051</td>\n",
              "      <td>258.480011</td>\n",
              "      <td>27.770000</td>\n",
              "      <td>362.197205</td>\n",
              "      <td>13.798571</td>\n",
              "    </tr>\n",
              "    <tr>\n",
              "      <th>2013-01-04</th>\n",
              "      <td>16.303900</td>\n",
              "      <td>259.149994</td>\n",
              "      <td>28.760000</td>\n",
              "      <td>369.354340</td>\n",
              "      <td>13.711429</td>\n",
              "    </tr>\n",
              "    <tr>\n",
              "      <th>2013-01-07</th>\n",
              "      <td>16.207996</td>\n",
              "      <td>268.459991</td>\n",
              "      <td>29.420000</td>\n",
              "      <td>367.742737</td>\n",
              "      <td>14.171429</td>\n",
              "    </tr>\n",
              "    <tr>\n",
              "      <th>2013-01-08</th>\n",
              "      <td>16.251619</td>\n",
              "      <td>266.380005</td>\n",
              "      <td>29.059999</td>\n",
              "      <td>367.017029</td>\n",
              "      <td>13.880000</td>\n",
              "    </tr>\n",
              "    <tr>\n",
              "      <th>...</th>\n",
              "      <td>...</td>\n",
              "      <td>...</td>\n",
              "      <td>...</td>\n",
              "      <td>...</td>\n",
              "      <td>...</td>\n",
              "    </tr>\n",
              "    <tr>\n",
              "      <th>2020-03-09</th>\n",
              "      <td>65.820084</td>\n",
              "      <td>1800.609985</td>\n",
              "      <td>169.500000</td>\n",
              "      <td>1215.790039</td>\n",
              "      <td>346.489990</td>\n",
              "    </tr>\n",
              "    <tr>\n",
              "      <th>2020-03-10</th>\n",
              "      <td>70.560539</td>\n",
              "      <td>1891.819946</td>\n",
              "      <td>178.190002</td>\n",
              "      <td>1275.170044</td>\n",
              "      <td>364.130005</td>\n",
              "    </tr>\n",
              "    <tr>\n",
              "      <th>2020-03-11</th>\n",
              "      <td>68.109955</td>\n",
              "      <td>1820.859985</td>\n",
              "      <td>170.240005</td>\n",
              "      <td>1210.900024</td>\n",
              "      <td>349.920013</td>\n",
              "    </tr>\n",
              "    <tr>\n",
              "      <th>2020-03-12</th>\n",
              "      <td>61.383770</td>\n",
              "      <td>1676.609985</td>\n",
              "      <td>154.470001</td>\n",
              "      <td>1111.550049</td>\n",
              "      <td>315.250000</td>\n",
              "    </tr>\n",
              "    <tr>\n",
              "      <th>2020-03-13</th>\n",
              "      <td>68.738052</td>\n",
              "      <td>1785.000000</td>\n",
              "      <td>170.279999</td>\n",
              "      <td>1214.270020</td>\n",
              "      <td>336.299988</td>\n",
              "    </tr>\n",
              "  </tbody>\n",
              "</table>\n",
              "<p>1812 rows × 5 columns</p>\n",
              "</div>"
            ],
            "text/plain": [
              "                 AAPL         AMZN          FB        GOOGL        NFLX\n",
              "Date                                                                   \n",
              "2013-01-02  16.985447   257.309998   28.000000   361.987000   13.144286\n",
              "2013-01-03  16.771051   258.480011   27.770000   362.197205   13.798571\n",
              "2013-01-04  16.303900   259.149994   28.760000   369.354340   13.711429\n",
              "2013-01-07  16.207996   268.459991   29.420000   367.742737   14.171429\n",
              "2013-01-08  16.251619   266.380005   29.059999   367.017029   13.880000\n",
              "...               ...          ...         ...          ...         ...\n",
              "2020-03-09  65.820084  1800.609985  169.500000  1215.790039  346.489990\n",
              "2020-03-10  70.560539  1891.819946  178.190002  1275.170044  364.130005\n",
              "2020-03-11  68.109955  1820.859985  170.240005  1210.900024  349.920013\n",
              "2020-03-12  61.383770  1676.609985  154.470001  1111.550049  315.250000\n",
              "2020-03-13  68.738052  1785.000000  170.279999  1214.270020  336.299988\n",
              "\n",
              "[1812 rows x 5 columns]"
            ]
          },
          "metadata": {},
          "execution_count": 205
        }
      ]
    },
    {
      "cell_type": "code",
      "metadata": {
        "id": "iHaczWnnUGtf"
      },
      "source": [
        "# store the adjusted close price pf the stock into the df\n",
        "#for stock in Assets : \n",
        "  #df[stock] = wb.DataReader(stock, data_source = 'yahoo', start = stockStartDate, end = today)['Adj Close']\n"
      ],
      "execution_count": null,
      "outputs": []
    },
    {
      "cell_type": "code",
      "metadata": {
        "id": "jUctnF4dton3"
      },
      "source": [
        "  #df[stock]=web.DataReader(stock,data_source='yahoo',start=stockStartDate,end=today)['Adj Close']"
      ],
      "execution_count": null,
      "outputs": []
    },
    {
      "cell_type": "code",
      "metadata": {
        "id": "oV8grnPYa_ah"
      },
      "source": [
        "#Create a dataframe to store the adjusted close price of the stocks\n",
        "#df=pd.DataFrame()\n",
        "\n",
        "# Store the adjusted close price of the stock in the dateframe\n",
        "#for stock in Assets:\n",
        "\n",
        " #  df[stock]=web.DataReader(stock,data_source='yahoo',start=stockStartDate,end=today)['Adj Close']"
      ],
      "execution_count": null,
      "outputs": []
    },
    {
      "cell_type": "code",
      "metadata": {
        "id": "bThB6YHWa7yy"
      },
      "source": [
        "#Visually show the stock/portfolio\n",
        "title= 'PortfolioAdj.Clone Price History'"
      ],
      "execution_count": null,
      "outputs": []
    },
    {
      "cell_type": "code",
      "metadata": {
        "id": "hd-OueSrbXuJ"
      },
      "source": [
        "#Get the stocks\n",
        "my_stocks=df"
      ],
      "execution_count": null,
      "outputs": []
    },
    {
      "cell_type": "code",
      "metadata": {
        "colab": {
          "base_uri": "https://localhost:8080/",
          "height": 235
        },
        "id": "m7ekeIr1cv2t",
        "outputId": "7b1da43a-f7a7-4471-8826-3dfe30a11500"
      },
      "source": [
        "my_stocks.head()"
      ],
      "execution_count": null,
      "outputs": [
        {
          "output_type": "execute_result",
          "data": {
            "text/html": [
              "<div>\n",
              "<style scoped>\n",
              "    .dataframe tbody tr th:only-of-type {\n",
              "        vertical-align: middle;\n",
              "    }\n",
              "\n",
              "    .dataframe tbody tr th {\n",
              "        vertical-align: top;\n",
              "    }\n",
              "\n",
              "    .dataframe thead th {\n",
              "        text-align: right;\n",
              "    }\n",
              "</style>\n",
              "<table border=\"1\" class=\"dataframe\">\n",
              "  <thead>\n",
              "    <tr style=\"text-align: right;\">\n",
              "      <th></th>\n",
              "      <th>AAPL</th>\n",
              "      <th>AMZN</th>\n",
              "      <th>FB</th>\n",
              "      <th>GOOGL</th>\n",
              "      <th>NFLX</th>\n",
              "    </tr>\n",
              "    <tr>\n",
              "      <th>Date</th>\n",
              "      <th></th>\n",
              "      <th></th>\n",
              "      <th></th>\n",
              "      <th></th>\n",
              "      <th></th>\n",
              "    </tr>\n",
              "  </thead>\n",
              "  <tbody>\n",
              "    <tr>\n",
              "      <th>2013-01-02</th>\n",
              "      <td>16.985447</td>\n",
              "      <td>257.309998</td>\n",
              "      <td>28.000000</td>\n",
              "      <td>361.987000</td>\n",
              "      <td>13.144286</td>\n",
              "    </tr>\n",
              "    <tr>\n",
              "      <th>2013-01-03</th>\n",
              "      <td>16.771051</td>\n",
              "      <td>258.480011</td>\n",
              "      <td>27.770000</td>\n",
              "      <td>362.197205</td>\n",
              "      <td>13.798571</td>\n",
              "    </tr>\n",
              "    <tr>\n",
              "      <th>2013-01-04</th>\n",
              "      <td>16.303900</td>\n",
              "      <td>259.149994</td>\n",
              "      <td>28.760000</td>\n",
              "      <td>369.354340</td>\n",
              "      <td>13.711429</td>\n",
              "    </tr>\n",
              "    <tr>\n",
              "      <th>2013-01-07</th>\n",
              "      <td>16.207996</td>\n",
              "      <td>268.459991</td>\n",
              "      <td>29.420000</td>\n",
              "      <td>367.742737</td>\n",
              "      <td>14.171429</td>\n",
              "    </tr>\n",
              "    <tr>\n",
              "      <th>2013-01-08</th>\n",
              "      <td>16.251619</td>\n",
              "      <td>266.380005</td>\n",
              "      <td>29.059999</td>\n",
              "      <td>367.017029</td>\n",
              "      <td>13.880000</td>\n",
              "    </tr>\n",
              "  </tbody>\n",
              "</table>\n",
              "</div>"
            ],
            "text/plain": [
              "                 AAPL        AMZN         FB       GOOGL       NFLX\n",
              "Date                                                               \n",
              "2013-01-02  16.985447  257.309998  28.000000  361.987000  13.144286\n",
              "2013-01-03  16.771051  258.480011  27.770000  362.197205  13.798571\n",
              "2013-01-04  16.303900  259.149994  28.760000  369.354340  13.711429\n",
              "2013-01-07  16.207996  268.459991  29.420000  367.742737  14.171429\n",
              "2013-01-08  16.251619  266.380005  29.059999  367.017029  13.880000"
            ]
          },
          "metadata": {},
          "execution_count": 211
        }
      ]
    },
    {
      "cell_type": "code",
      "metadata": {
        "colab": {
          "base_uri": "https://localhost:8080/",
          "height": 325
        },
        "id": "VMiBRzK2Tx4q",
        "outputId": "53f7b05b-9fd8-46e0-f16c-9d6bc2142bba"
      },
      "source": [
        "for c in my_stocks.columns.values:\n",
        "  plt.plot(my_stocks[c], label = c)\n",
        "\n",
        "plt.title(title)\n",
        "plt.xlabel('Date', fontsize = 18)\n",
        "plt.ylabel('Adj. Price USD($)')\n",
        "plt.legend(my_stocks.columns.values, loc = 'upper left')\n",
        "plt.show()"
      ],
      "execution_count": null,
      "outputs": [
        {
          "output_type": "display_data",
          "data": {
            "image/png": "[encoded data removed]",
            "text/plain": [
              "<Figure size 432x288 with 1 Axes>"
            ]
          },
          "metadata": {}
        }
      ]
    },
    {
      "cell_type": "code",
      "metadata": {
        "colab": {
          "base_uri": "https://localhost:8080/",
          "height": 450
        },
        "id": "eNPAb3tfsLLI",
        "outputId": "2a3f0e00-e978-4257-dd72-c4ec10392b1b"
      },
      "source": [
        "returns"
      ],
      "execution_count": null,
      "outputs": [
        {
          "output_type": "execute_result",
          "data": {
            "text/html": [
              "<div>\n",
              "<style scoped>\n",
              "    .dataframe tbody tr th:only-of-type {\n",
              "        vertical-align: middle;\n",
              "    }\n",
              "\n",
              "    .dataframe tbody tr th {\n",
              "        vertical-align: top;\n",
              "    }\n",
              "\n",
              "    .dataframe thead th {\n",
              "        text-align: right;\n",
              "    }\n",
              "</style>\n",
              "<table border=\"1\" class=\"dataframe\">\n",
              "  <thead>\n",
              "    <tr style=\"text-align: right;\">\n",
              "      <th></th>\n",
              "      <th>AAPL</th>\n",
              "      <th>AMZN</th>\n",
              "      <th>FB</th>\n",
              "      <th>GOOGL</th>\n",
              "      <th>NFLX</th>\n",
              "    </tr>\n",
              "    <tr>\n",
              "      <th>Date</th>\n",
              "      <th></th>\n",
              "      <th></th>\n",
              "      <th></th>\n",
              "      <th></th>\n",
              "      <th></th>\n",
              "    </tr>\n",
              "  </thead>\n",
              "  <tbody>\n",
              "    <tr>\n",
              "      <th>2013-01-02</th>\n",
              "      <td>NaN</td>\n",
              "      <td>NaN</td>\n",
              "      <td>NaN</td>\n",
              "      <td>NaN</td>\n",
              "      <td>NaN</td>\n",
              "    </tr>\n",
              "    <tr>\n",
              "      <th>2013-01-03</th>\n",
              "      <td>-0.012622</td>\n",
              "      <td>0.004547</td>\n",
              "      <td>-0.008214</td>\n",
              "      <td>0.000581</td>\n",
              "      <td>0.049777</td>\n",
              "    </tr>\n",
              "    <tr>\n",
              "      <th>2013-01-04</th>\n",
              "      <td>-0.027855</td>\n",
              "      <td>0.002592</td>\n",
              "      <td>0.035650</td>\n",
              "      <td>0.019760</td>\n",
              "      <td>-0.006315</td>\n",
              "    </tr>\n",
              "    <tr>\n",
              "      <th>2013-01-07</th>\n",
              "      <td>-0.005882</td>\n",
              "      <td>0.035925</td>\n",
              "      <td>0.022949</td>\n",
              "      <td>-0.004363</td>\n",
              "      <td>0.033549</td>\n",
              "    </tr>\n",
              "    <tr>\n",
              "      <th>2013-01-08</th>\n",
              "      <td>0.002691</td>\n",
              "      <td>-0.007748</td>\n",
              "      <td>-0.012237</td>\n",
              "      <td>-0.001973</td>\n",
              "      <td>-0.020565</td>\n",
              "    </tr>\n",
              "    <tr>\n",
              "      <th>...</th>\n",
              "      <td>...</td>\n",
              "      <td>...</td>\n",
              "      <td>...</td>\n",
              "      <td>...</td>\n",
              "      <td>...</td>\n",
              "    </tr>\n",
              "    <tr>\n",
              "      <th>2020-03-09</th>\n",
              "      <td>-0.079092</td>\n",
              "      <td>-0.052854</td>\n",
              "      <td>-0.064001</td>\n",
              "      <td>-0.061702</td>\n",
              "      <td>-0.060926</td>\n",
              "    </tr>\n",
              "    <tr>\n",
              "      <th>2020-03-10</th>\n",
              "      <td>0.072022</td>\n",
              "      <td>0.050655</td>\n",
              "      <td>0.051268</td>\n",
              "      <td>0.048841</td>\n",
              "      <td>0.050911</td>\n",
              "    </tr>\n",
              "    <tr>\n",
              "      <th>2020-03-11</th>\n",
              "      <td>-0.034731</td>\n",
              "      <td>-0.037509</td>\n",
              "      <td>-0.044615</td>\n",
              "      <td>-0.050401</td>\n",
              "      <td>-0.039025</td>\n",
              "    </tr>\n",
              "    <tr>\n",
              "      <th>2020-03-12</th>\n",
              "      <td>-0.098755</td>\n",
              "      <td>-0.079221</td>\n",
              "      <td>-0.092634</td>\n",
              "      <td>-0.082046</td>\n",
              "      <td>-0.099080</td>\n",
              "    </tr>\n",
              "    <tr>\n",
              "      <th>2020-03-13</th>\n",
              "      <td>0.119808</td>\n",
              "      <td>0.064648</td>\n",
              "      <td>0.102350</td>\n",
              "      <td>0.092411</td>\n",
              "      <td>0.066772</td>\n",
              "    </tr>\n",
              "  </tbody>\n",
              "</table>\n",
              "<p>1812 rows × 5 columns</p>\n",
              "</div>"
            ],
            "text/plain": [
              "                AAPL      AMZN        FB     GOOGL      NFLX\n",
              "Date                                                        \n",
              "2013-01-02       NaN       NaN       NaN       NaN       NaN\n",
              "2013-01-03 -0.012622  0.004547 -0.008214  0.000581  0.049777\n",
              "2013-01-04 -0.027855  0.002592  0.035650  0.019760 -0.006315\n",
              "2013-01-07 -0.005882  0.035925  0.022949 -0.004363  0.033549\n",
              "2013-01-08  0.002691 -0.007748 -0.012237 -0.001973 -0.020565\n",
              "...              ...       ...       ...       ...       ...\n",
              "2020-03-09 -0.079092 -0.052854 -0.064001 -0.061702 -0.060926\n",
              "2020-03-10  0.072022  0.050655  0.051268  0.048841  0.050911\n",
              "2020-03-11 -0.034731 -0.037509 -0.044615 -0.050401 -0.039025\n",
              "2020-03-12 -0.098755 -0.079221 -0.092634 -0.082046 -0.099080\n",
              "2020-03-13  0.119808  0.064648  0.102350  0.092411  0.066772\n",
              "\n",
              "[1812 rows x 5 columns]"
            ]
          },
          "metadata": {},
          "execution_count": 213
        }
      ]
    },
    {
      "cell_type": "code",
      "metadata": {
        "colab": {
          "base_uri": "https://localhost:8080/",
          "height": 450
        },
        "id": "ebo9MFUXtwdk",
        "outputId": "2420379a-ec96-4f99-ac75-b624222d6afc"
      },
      "source": [
        "df\n"
      ],
      "execution_count": null,
      "outputs": [
        {
          "output_type": "execute_result",
          "data": {
            "text/html": [
              "<div>\n",
              "<style scoped>\n",
              "    .dataframe tbody tr th:only-of-type {\n",
              "        vertical-align: middle;\n",
              "    }\n",
              "\n",
              "    .dataframe tbody tr th {\n",
              "        vertical-align: top;\n",
              "    }\n",
              "\n",
              "    .dataframe thead th {\n",
              "        text-align: right;\n",
              "    }\n",
              "</style>\n",
              "<table border=\"1\" class=\"dataframe\">\n",
              "  <thead>\n",
              "    <tr style=\"text-align: right;\">\n",
              "      <th></th>\n",
              "      <th>AAPL</th>\n",
              "      <th>AMZN</th>\n",
              "      <th>FB</th>\n",
              "      <th>GOOGL</th>\n",
              "      <th>NFLX</th>\n",
              "    </tr>\n",
              "    <tr>\n",
              "      <th>Date</th>\n",
              "      <th></th>\n",
              "      <th></th>\n",
              "      <th></th>\n",
              "      <th></th>\n",
              "      <th></th>\n",
              "    </tr>\n",
              "  </thead>\n",
              "  <tbody>\n",
              "    <tr>\n",
              "      <th>2013-01-02</th>\n",
              "      <td>16.985447</td>\n",
              "      <td>257.309998</td>\n",
              "      <td>28.000000</td>\n",
              "      <td>361.987000</td>\n",
              "      <td>13.144286</td>\n",
              "    </tr>\n",
              "    <tr>\n",
              "      <th>2013-01-03</th>\n",
              "      <td>16.771051</td>\n",
              "      <td>258.480011</td>\n",
              "      <td>27.770000</td>\n",
              "      <td>362.197205</td>\n",
              "      <td>13.798571</td>\n",
              "    </tr>\n",
              "    <tr>\n",
              "      <th>2013-01-04</th>\n",
              "      <td>16.303900</td>\n",
              "      <td>259.149994</td>\n",
              "      <td>28.760000</td>\n",
              "      <td>369.354340</td>\n",
              "      <td>13.711429</td>\n",
              "    </tr>\n",
              "    <tr>\n",
              "      <th>2013-01-07</th>\n",
              "      <td>16.207996</td>\n",
              "      <td>268.459991</td>\n",
              "      <td>29.420000</td>\n",
              "      <td>367.742737</td>\n",
              "      <td>14.171429</td>\n",
              "    </tr>\n",
              "    <tr>\n",
              "      <th>2013-01-08</th>\n",
              "      <td>16.251619</td>\n",
              "      <td>266.380005</td>\n",
              "      <td>29.059999</td>\n",
              "      <td>367.017029</td>\n",
              "      <td>13.880000</td>\n",
              "    </tr>\n",
              "    <tr>\n",
              "      <th>...</th>\n",
              "      <td>...</td>\n",
              "      <td>...</td>\n",
              "      <td>...</td>\n",
              "      <td>...</td>\n",
              "      <td>...</td>\n",
              "    </tr>\n",
              "    <tr>\n",
              "      <th>2020-03-09</th>\n",
              "      <td>65.820084</td>\n",
              "      <td>1800.609985</td>\n",
              "      <td>169.500000</td>\n",
              "      <td>1215.790039</td>\n",
              "      <td>346.489990</td>\n",
              "    </tr>\n",
              "    <tr>\n",
              "      <th>2020-03-10</th>\n",
              "      <td>70.560539</td>\n",
              "      <td>1891.819946</td>\n",
              "      <td>178.190002</td>\n",
              "      <td>1275.170044</td>\n",
              "      <td>364.130005</td>\n",
              "    </tr>\n",
              "    <tr>\n",
              "      <th>2020-03-11</th>\n",
              "      <td>68.109955</td>\n",
              "      <td>1820.859985</td>\n",
              "      <td>170.240005</td>\n",
              "      <td>1210.900024</td>\n",
              "      <td>349.920013</td>\n",
              "    </tr>\n",
              "    <tr>\n",
              "      <th>2020-03-12</th>\n",
              "      <td>61.383770</td>\n",
              "      <td>1676.609985</td>\n",
              "      <td>154.470001</td>\n",
              "      <td>1111.550049</td>\n",
              "      <td>315.250000</td>\n",
              "    </tr>\n",
              "    <tr>\n",
              "      <th>2020-03-13</th>\n",
              "      <td>68.738052</td>\n",
              "      <td>1785.000000</td>\n",
              "      <td>170.279999</td>\n",
              "      <td>1214.270020</td>\n",
              "      <td>336.299988</td>\n",
              "    </tr>\n",
              "  </tbody>\n",
              "</table>\n",
              "<p>1812 rows × 5 columns</p>\n",
              "</div>"
            ],
            "text/plain": [
              "                 AAPL         AMZN          FB        GOOGL        NFLX\n",
              "Date                                                                   \n",
              "2013-01-02  16.985447   257.309998   28.000000   361.987000   13.144286\n",
              "2013-01-03  16.771051   258.480011   27.770000   362.197205   13.798571\n",
              "2013-01-04  16.303900   259.149994   28.760000   369.354340   13.711429\n",
              "2013-01-07  16.207996   268.459991   29.420000   367.742737   14.171429\n",
              "2013-01-08  16.251619   266.380005   29.059999   367.017029   13.880000\n",
              "...               ...          ...         ...          ...         ...\n",
              "2020-03-09  65.820084  1800.609985  169.500000  1215.790039  346.489990\n",
              "2020-03-10  70.560539  1891.819946  178.190002  1275.170044  364.130005\n",
              "2020-03-11  68.109955  1820.859985  170.240005  1210.900024  349.920013\n",
              "2020-03-12  61.383770  1676.609985  154.470001  1111.550049  315.250000\n",
              "2020-03-13  68.738052  1785.000000  170.279999  1214.270020  336.299988\n",
              "\n",
              "[1812 rows x 5 columns]"
            ]
          },
          "metadata": {},
          "execution_count": 214
        }
      ]
    },
    {
      "cell_type": "code",
      "metadata": {
        "id": "fi1fpTVack6D"
      },
      "source": [
        "#Show the daily simple return\n",
        "returns=df.pct_change()\n"
      ],
      "execution_count": null,
      "outputs": []
    },
    {
      "cell_type": "code",
      "metadata": {
        "colab": {
          "base_uri": "https://localhost:8080/",
          "height": 450
        },
        "id": "o3yHOisXtsQ6",
        "outputId": "f94316d2-8003-48dd-e97d-7f169bd8807a"
      },
      "source": [
        "returns"
      ],
      "execution_count": null,
      "outputs": [
        {
          "output_type": "execute_result",
          "data": {
            "text/html": [
              "<div>\n",
              "<style scoped>\n",
              "    .dataframe tbody tr th:only-of-type {\n",
              "        vertical-align: middle;\n",
              "    }\n",
              "\n",
              "    .dataframe tbody tr th {\n",
              "        vertical-align: top;\n",
              "    }\n",
              "\n",
              "    .dataframe thead th {\n",
              "        text-align: right;\n",
              "    }\n",
              "</style>\n",
              "<table border=\"1\" class=\"dataframe\">\n",
              "  <thead>\n",
              "    <tr style=\"text-align: right;\">\n",
              "      <th></th>\n",
              "      <th>AAPL</th>\n",
              "      <th>AMZN</th>\n",
              "      <th>FB</th>\n",
              "      <th>GOOGL</th>\n",
              "      <th>NFLX</th>\n",
              "    </tr>\n",
              "    <tr>\n",
              "      <th>Date</th>\n",
              "      <th></th>\n",
              "      <th></th>\n",
              "      <th></th>\n",
              "      <th></th>\n",
              "      <th></th>\n",
              "    </tr>\n",
              "  </thead>\n",
              "  <tbody>\n",
              "    <tr>\n",
              "      <th>2013-01-02</th>\n",
              "      <td>NaN</td>\n",
              "      <td>NaN</td>\n",
              "      <td>NaN</td>\n",
              "      <td>NaN</td>\n",
              "      <td>NaN</td>\n",
              "    </tr>\n",
              "    <tr>\n",
              "      <th>2013-01-03</th>\n",
              "      <td>-0.012622</td>\n",
              "      <td>0.004547</td>\n",
              "      <td>-0.008214</td>\n",
              "      <td>0.000581</td>\n",
              "      <td>0.049777</td>\n",
              "    </tr>\n",
              "    <tr>\n",
              "      <th>2013-01-04</th>\n",
              "      <td>-0.027855</td>\n",
              "      <td>0.002592</td>\n",
              "      <td>0.035650</td>\n",
              "      <td>0.019760</td>\n",
              "      <td>-0.006315</td>\n",
              "    </tr>\n",
              "    <tr>\n",
              "      <th>2013-01-07</th>\n",
              "      <td>-0.005882</td>\n",
              "      <td>0.035925</td>\n",
              "      <td>0.022949</td>\n",
              "      <td>-0.004363</td>\n",
              "      <td>0.033549</td>\n",
              "    </tr>\n",
              "    <tr>\n",
              "      <th>2013-01-08</th>\n",
              "      <td>0.002691</td>\n",
              "      <td>-0.007748</td>\n",
              "      <td>-0.012237</td>\n",
              "      <td>-0.001973</td>\n",
              "      <td>-0.020565</td>\n",
              "    </tr>\n",
              "    <tr>\n",
              "      <th>...</th>\n",
              "      <td>...</td>\n",
              "      <td>...</td>\n",
              "      <td>...</td>\n",
              "      <td>...</td>\n",
              "      <td>...</td>\n",
              "    </tr>\n",
              "    <tr>\n",
              "      <th>2020-03-09</th>\n",
              "      <td>-0.079092</td>\n",
              "      <td>-0.052854</td>\n",
              "      <td>-0.064001</td>\n",
              "      <td>-0.061702</td>\n",
              "      <td>-0.060926</td>\n",
              "    </tr>\n",
              "    <tr>\n",
              "      <th>2020-03-10</th>\n",
              "      <td>0.072021</td>\n",
              "      <td>0.050655</td>\n",
              "      <td>0.051268</td>\n",
              "      <td>0.048841</td>\n",
              "      <td>0.050911</td>\n",
              "    </tr>\n",
              "    <tr>\n",
              "      <th>2020-03-11</th>\n",
              "      <td>-0.034730</td>\n",
              "      <td>-0.037509</td>\n",
              "      <td>-0.044615</td>\n",
              "      <td>-0.050401</td>\n",
              "      <td>-0.039025</td>\n",
              "    </tr>\n",
              "    <tr>\n",
              "      <th>2020-03-12</th>\n",
              "      <td>-0.098755</td>\n",
              "      <td>-0.079221</td>\n",
              "      <td>-0.092634</td>\n",
              "      <td>-0.082046</td>\n",
              "      <td>-0.099080</td>\n",
              "    </tr>\n",
              "    <tr>\n",
              "      <th>2020-03-13</th>\n",
              "      <td>0.119808</td>\n",
              "      <td>0.064648</td>\n",
              "      <td>0.102350</td>\n",
              "      <td>0.092411</td>\n",
              "      <td>0.066772</td>\n",
              "    </tr>\n",
              "  </tbody>\n",
              "</table>\n",
              "<p>1812 rows × 5 columns</p>\n",
              "</div>"
            ],
            "text/plain": [
              "                AAPL      AMZN        FB     GOOGL      NFLX\n",
              "Date                                                        \n",
              "2013-01-02       NaN       NaN       NaN       NaN       NaN\n",
              "2013-01-03 -0.012622  0.004547 -0.008214  0.000581  0.049777\n",
              "2013-01-04 -0.027855  0.002592  0.035650  0.019760 -0.006315\n",
              "2013-01-07 -0.005882  0.035925  0.022949 -0.004363  0.033549\n",
              "2013-01-08  0.002691 -0.007748 -0.012237 -0.001973 -0.020565\n",
              "...              ...       ...       ...       ...       ...\n",
              "2020-03-09 -0.079092 -0.052854 -0.064001 -0.061702 -0.060926\n",
              "2020-03-10  0.072021  0.050655  0.051268  0.048841  0.050911\n",
              "2020-03-11 -0.034730 -0.037509 -0.044615 -0.050401 -0.039025\n",
              "2020-03-12 -0.098755 -0.079221 -0.092634 -0.082046 -0.099080\n",
              "2020-03-13  0.119808  0.064648  0.102350  0.092411  0.066772\n",
              "\n",
              "[1812 rows x 5 columns]"
            ]
          },
          "metadata": {},
          "execution_count": 216
        }
      ]
    },
    {
      "cell_type": "code",
      "metadata": {
        "id": "S1_WiioNdobq"
      },
      "source": [
        "#Create and show the annualized covariance matrix\n",
        "Cov_matrix_annual=returns.cov()*252"
      ],
      "execution_count": null,
      "outputs": []
    },
    {
      "cell_type": "code",
      "metadata": {
        "colab": {
          "base_uri": "https://localhost:8080/",
          "height": 204
        },
        "id": "22rbNSCRjuKA",
        "outputId": "ea6f97ee-fd21-429c-c6ef-ba62b04b8537"
      },
      "source": [
        "Cov_matrix_annual"
      ],
      "execution_count": null,
      "outputs": [
        {
          "output_type": "execute_result",
          "data": {
            "text/html": [
              "<div>\n",
              "<style scoped>\n",
              "    .dataframe tbody tr th:only-of-type {\n",
              "        vertical-align: middle;\n",
              "    }\n",
              "\n",
              "    .dataframe tbody tr th {\n",
              "        vertical-align: top;\n",
              "    }\n",
              "\n",
              "    .dataframe thead th {\n",
              "        text-align: right;\n",
              "    }\n",
              "</style>\n",
              "<table border=\"1\" class=\"dataframe\">\n",
              "  <thead>\n",
              "    <tr style=\"text-align: right;\">\n",
              "      <th></th>\n",
              "      <th>AAPL</th>\n",
              "      <th>AMZN</th>\n",
              "      <th>FB</th>\n",
              "      <th>GOOGL</th>\n",
              "      <th>NFLX</th>\n",
              "    </tr>\n",
              "  </thead>\n",
              "  <tbody>\n",
              "    <tr>\n",
              "      <th>AAPL</th>\n",
              "      <td>0.069938</td>\n",
              "      <td>0.031999</td>\n",
              "      <td>0.033886</td>\n",
              "      <td>0.030421</td>\n",
              "      <td>0.028193</td>\n",
              "    </tr>\n",
              "    <tr>\n",
              "      <th>AMZN</th>\n",
              "      <td>0.031999</td>\n",
              "      <td>0.089034</td>\n",
              "      <td>0.048688</td>\n",
              "      <td>0.043231</td>\n",
              "      <td>0.057688</td>\n",
              "    </tr>\n",
              "    <tr>\n",
              "      <th>FB</th>\n",
              "      <td>0.033886</td>\n",
              "      <td>0.048688</td>\n",
              "      <td>0.109611</td>\n",
              "      <td>0.042058</td>\n",
              "      <td>0.050926</td>\n",
              "    </tr>\n",
              "    <tr>\n",
              "      <th>GOOGL</th>\n",
              "      <td>0.030421</td>\n",
              "      <td>0.043231</td>\n",
              "      <td>0.042058</td>\n",
              "      <td>0.058076</td>\n",
              "      <td>0.045203</td>\n",
              "    </tr>\n",
              "    <tr>\n",
              "      <th>NFLX</th>\n",
              "      <td>0.028193</td>\n",
              "      <td>0.057688</td>\n",
              "      <td>0.050926</td>\n",
              "      <td>0.045203</td>\n",
              "      <td>0.211284</td>\n",
              "    </tr>\n",
              "  </tbody>\n",
              "</table>\n",
              "</div>"
            ],
            "text/plain": [
              "           AAPL      AMZN        FB     GOOGL      NFLX\n",
              "AAPL   0.069938  0.031999  0.033886  0.030421  0.028193\n",
              "AMZN   0.031999  0.089034  0.048688  0.043231  0.057688\n",
              "FB     0.033886  0.048688  0.109611  0.042058  0.050926\n",
              "GOOGL  0.030421  0.043231  0.042058  0.058076  0.045203\n",
              "NFLX   0.028193  0.057688  0.050926  0.045203  0.211284"
            ]
          },
          "metadata": {},
          "execution_count": 218
        }
      ]
    },
    {
      "cell_type": "code",
      "metadata": {
        "id": "MIto-ZqEu8n-"
      },
      "source": [
        "#weights=pd.DataFrame()"
      ],
      "execution_count": null,
      "outputs": []
    },
    {
      "cell_type": "code",
      "metadata": {
        "colab": {
          "base_uri": "https://localhost:8080/"
        },
        "id": "ibIPY0Z2vUkS",
        "outputId": "ec49c3ed-c650-48d4-ffd7-556059cf4de4"
      },
      "source": [
        "weights"
      ],
      "execution_count": null,
      "outputs": [
        {
          "output_type": "execute_result",
          "data": {
            "text/plain": [
              "array([0.2, 0.2, 0.2, 0.2, 0.2])"
            ]
          },
          "metadata": {},
          "execution_count": 220
        }
      ]
    },
    {
      "cell_type": "code",
      "metadata": {
        "id": "KN8E2Xg7nNqr",
        "colab": {
          "base_uri": "https://localhost:8080/"
        },
        "outputId": "136e6103-d260-455f-9f64-44312966b327"
      },
      "source": [
        "#Calculate the portfolio variance\n",
        "port_variance=np.dot(weights.T,np.dot(Cov_matrix_annual, weights))\n",
        "port_variance"
      ],
      "execution_count": null,
      "outputs": [
        {
          "output_type": "execute_result",
          "data": {
            "text/plain": [
              "0.05450107575851888"
            ]
          },
          "metadata": {},
          "execution_count": 221
        }
      ]
    },
    {
      "cell_type": "code",
      "metadata": {
        "id": "NpW8SAfcnlUQ",
        "colab": {
          "base_uri": "https://localhost:8080/"
        },
        "outputId": "c2666c08-c08b-47eb-acec-d1b9522f12f0"
      },
      "source": [
        "#Calculate the portfolio volatility aka std deviation\n",
        "port_volatility= np.sqrt(port_variance)\n",
        "port_volatility"
      ],
      "execution_count": null,
      "outputs": [
        {
          "output_type": "execute_result",
          "data": {
            "text/plain": [
              "0.23345465460881024"
            ]
          },
          "metadata": {},
          "execution_count": 222
        }
      ]
    },
    {
      "cell_type": "code",
      "metadata": {
        "id": "epDKEHa8nz9Q",
        "colab": {
          "base_uri": "https://localhost:8080/"
        },
        "outputId": "ac2a6669-1745-4f47-b329-ca3289100fd6"
      },
      "source": [
        "#calculate the annual portfolio return\n",
        "portfoliosimpleannualreturn=np.sum(returns.mean()*weights*252)\n",
        "portfoliosimpleannualreturn\n"
      ],
      "execution_count": null,
      "outputs": [
        {
          "output_type": "execute_result",
          "data": {
            "text/plain": [
              "0.31984333138095156"
            ]
          },
          "metadata": {},
          "execution_count": 223
        }
      ]
    },
    {
      "cell_type": "code",
      "metadata": {
        "id": "9t-Btshmod6y"
      },
      "source": [
        "#show the expected annual return, volatility(risk), and variance\n",
        "percent_var=str(round(port_variance,2)*100)\n",
        "percent_vols=str(round(port_volatility,2)*100)\n",
        "percent_ret=str(round(portfoliosimpleannualreturn,2)*100)"
      ],
      "execution_count": null,
      "outputs": []
    },
    {
      "cell_type": "code",
      "metadata": {
        "id": "xvJTtwpqpYjm",
        "colab": {
          "base_uri": "https://localhost:8080/"
        },
        "outputId": "03725367-63ac-4545-9c5d-ad637eddc477"
      },
      "source": [
        "print('ExpectedAnnualReturns:'+percent_ret)\n",
        "print('AnnualValatility/risk:'+percent_vols)\n",
        "print('Anual Variance:'+percent_var)"
      ],
      "execution_count": null,
      "outputs": [
        {
          "output_type": "stream",
          "name": "stdout",
          "text": [
            "ExpectedAnnualReturns:32.0\n",
            "AnnualValatility/risk:23.0\n",
            "Anual Variance:5.0\n"
          ]
        }
      ]
    },
    {
      "cell_type": "code",
      "metadata": {
        "colab": {
          "base_uri": "https://localhost:8080/"
        },
        "id": "ZG_7p5vc0zoG",
        "outputId": "441e90ac-92f4-41c8-a704-9885a1ebde0a"
      },
      "source": [
        "!pip install PyPortfolioOpt\n",
        "!pip install -e git+https://github.com/robertmartin8/PyPortfolioOpt.git\n"
      ],
      "execution_count": null,
      "outputs": [
        {
          "output_type": "stream",
          "name": "stdout",
          "text": [
            "Requirement already satisfied: PyPortfolioOpt in /usr/local/lib/python3.7/dist-packages (1.4.2)\n",
            "Requirement already satisfied: numpy<2.0,>=1.12 in /usr/local/lib/python3.7/dist-packages (from PyPortfolioOpt) (1.19.5)\n",
            "Requirement already satisfied: pandas>=0.19 in /usr/local/lib/python3.7/dist-packages (from PyPortfolioOpt) (1.1.5)\n",
            "Requirement already satisfied: scipy<2.0,>=1.3 in /usr/local/lib/python3.7/dist-packages (from PyPortfolioOpt) (1.4.1)\n",
            "Requirement already satisfied: cvxpy<2.0.0,>=1.1.10 in /usr/local/lib/python3.7/dist-packages (from PyPortfolioOpt) (1.1.15)\n",
            "Requirement already satisfied: ecos>=2 in /usr/local/lib/python3.7/dist-packages (from cvxpy<2.0.0,>=1.1.10->PyPortfolioOpt) (2.0.7.post1)\n",
            "Requirement already satisfied: scs>=1.1.6 in /usr/local/lib/python3.7/dist-packages (from cvxpy<2.0.0,>=1.1.10->PyPortfolioOpt) (2.1.4)\n",
            "Requirement already satisfied: osqp>=0.4.1 in /usr/local/lib/python3.7/dist-packages (from cvxpy<2.0.0,>=1.1.10->PyPortfolioOpt) (0.6.2.post0)\n",
            "Requirement already satisfied: qdldl in /usr/local/lib/python3.7/dist-packages (from osqp>=0.4.1->cvxpy<2.0.0,>=1.1.10->PyPortfolioOpt) (0.1.5.post0)\n",
            "Requirement already satisfied: pytz>=2017.2 in /usr/local/lib/python3.7/dist-packages (from pandas>=0.19->PyPortfolioOpt) (2018.9)\n",
            "Requirement already satisfied: python-dateutil>=2.7.3 in /usr/local/lib/python3.7/dist-packages (from pandas>=0.19->PyPortfolioOpt) (2.8.2)\n",
            "Requirement already satisfied: six>=1.5 in /usr/local/lib/python3.7/dist-packages (from python-dateutil>=2.7.3->pandas>=0.19->PyPortfolioOpt) (1.15.0)\n",
            "\u001b[31mERROR: Could not detect requirement name for 'git+https://github.com/robertmartin8/PyPortfolioOpt.git', please specify one with #egg=your_package_name\u001b[0m\n"
          ]
        }
      ]
    },
    {
      "cell_type": "code",
      "metadata": {
        "id": "IInN8vuT1eMe"
      },
      "source": [
        "from pypfopt.efficient_frontier import EfficientFrontier\n"
      ],
      "execution_count": null,
      "outputs": []
    },
    {
      "cell_type": "code",
      "metadata": {
        "id": "6rrYyCERukE2"
      },
      "source": [
        "from pypfopt.efficient_frontier import EfficientFrontier\n",
        "from pypfopt import risk_models\n",
        "from pypfopt import expected_returns"
      ],
      "execution_count": null,
      "outputs": []
    },
    {
      "cell_type": "code",
      "metadata": {
        "id": "lVcX2YFau_Wp"
      },
      "source": [
        "#Portfolio Optimization!"
      ],
      "execution_count": null,
      "outputs": []
    },
    {
      "cell_type": "code",
      "metadata": {
        "id": "Nvfmdvx1vGBw"
      },
      "source": [
        "#Calculate the expected returns and the annualized sample covariance matrix of asset returns"
      ],
      "execution_count": null,
      "outputs": []
    },
    {
      "cell_type": "code",
      "metadata": {
        "id": "b8A8il2zvX_t"
      },
      "source": [
        "mu = expected_returns.mean_historical_return(df)\n",
        "S = risk_models.sample_cov(df)"
      ],
      "execution_count": null,
      "outputs": []
    },
    {
      "cell_type": "code",
      "metadata": {
        "id": "SGjC9-7WvoKx",
        "colab": {
          "base_uri": "https://localhost:8080/"
        },
        "outputId": "587935c4-da3f-4ea9-c12a-584ebbe19ee9"
      },
      "source": [
        "#Optimize for max sharp ratio\n",
        "ef=EfficientFrontier(mu,S)\n",
        "weights=ef.max_sharpe()\n",
        "Cleaned_weights=ef.clean_weights()\n",
        "print(Cleaned_weights)\n",
        "ef.portfolio_performance(verbose=True)"
      ],
      "execution_count": null,
      "outputs": [
        {
          "output_type": "stream",
          "name": "stdout",
          "text": [
            "OrderedDict([('AAPL', 0.22865), ('AMZN', 0.24963), ('FB', 0.12352), ('GOOGL', 0.0), ('NFLX', 0.39821)])\n",
            "Expected annual return: 38.9%\n",
            "Annual volatility: 27.3%\n",
            "Sharpe Ratio: 1.35\n"
          ]
        },
        {
          "output_type": "execute_result",
          "data": {
            "text/plain": [
              "(0.38859732972328764, 0.27305882025863487, 1.3498825248499973)"
            ]
          },
          "metadata": {},
          "execution_count": 232
        }
      ]
    },
    {
      "cell_type": "code",
      "metadata": {
        "colab": {
          "base_uri": "https://localhost:8080/"
        },
        "id": "hBIfwA_HRL8b",
        "outputId": "9bcdc981-3c7b-4376-94ee-b9aba8ac2045"
      },
      "source": [
        "from pypfopt.discrete_allocation import DiscreteAllocation, get_latest_prices\n",
        "\n",
        "latest_prices = get_latest_prices(df)\n",
        "da = DiscreteAllocation(weights, latest_prices, total_portfolio_value=15000)\n",
        "allocation, leftover = da.lp_portfolio()\n",
        "print(allocation)"
      ],
      "execution_count": null,
      "outputs": [
        {
          "output_type": "stream",
          "name": "stdout",
          "text": [
            "{'AAPL': 50, 'AMZN': 2, 'FB': 11, 'NFLX': 18}\n"
          ]
        }
      ]
    },
    {
      "cell_type": "code",
      "metadata": {
        "id": "VTYBMk16wwKC",
        "colab": {
          "base_uri": "https://localhost:8080/"
        },
        "outputId": "32c41bcb-b406-4ab7-c2c2-61c68521a562"
      },
      "source": [
        "print('Discrete allocation:', allocation)\n",
        "print('Fundsremaining:${:.2f}'.format(leftover))"
      ],
      "execution_count": null,
      "outputs": [
        {
          "output_type": "stream",
          "name": "stdout",
          "text": [
            "Discrete allocation: {'AAPL': 50, 'AMZN': 2, 'FB': 11, 'NFLX': 18}\n",
            "Fundsremaining:$66.62\n"
          ]
        }
      ]
    }
  ]
}